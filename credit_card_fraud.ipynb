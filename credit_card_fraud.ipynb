{
  "nbformat": 4,
  "nbformat_minor": 0,
  "metadata": {
    "colab": {
      "name": "credit-card-fraud.ipynb",
      "provenance": [],
      "collapsed_sections": [],
      "mount_file_id": "1L9heq8O_4AuRwMoKQzKWUPtYp8tY88-n",
      "authorship_tag": "ABX9TyMVqG/tdeQxedh4Ep9mfKuu",
      "include_colab_link": true
    },
    "kernelspec": {
      "name": "python3",
      "display_name": "Python 3"
    },
    "accelerator": "GPU"
  },
  "cells": [
    {
      "cell_type": "markdown",
      "metadata": {
        "id": "view-in-github",
        "colab_type": "text"
      },
      "source": [
        "<a href=\"https://colab.research.google.com/github/EbsHirani/CreditCardFraudDetector/blob/master/credit_card_fraud.ipynb\" target=\"_parent\"><img src=\"https://colab.research.google.com/assets/colab-badge.svg\" alt=\"Open In Colab\"/></a>"
      ]
    },
    {
      "cell_type": "code",
      "metadata": {
        "id": "93rPRf5uiQxS",
        "colab_type": "code",
        "colab": {}
      },
      "source": [
        "import os\n",
        "os.chdir(\"drive/My Drive/codeshastra/CreditCard/CreditCard/datasets/mlg-ulb/creditcardfraud\")"
      ],
      "execution_count": 0,
      "outputs": []
    },
    {
      "cell_type": "code",
      "metadata": {
        "id": "lBFVtJ5AjCnb",
        "colab_type": "code",
        "colab": {}
      },
      "source": [
        "import pandas as pd\n",
        "import numpy as np\n",
        "%matplotlib inline\n",
        "import matplotlib.pyplot as plt\n",
        "import seaborn as sns\n",
        "credit_card_data = pd.read_csv(\"creditcard.csv\")\n"
      ],
      "execution_count": 0,
      "outputs": []
    },
    {
      "cell_type": "code",
      "metadata": {
        "id": "ovSlni5vnRrE",
        "colab_type": "code",
        "outputId": "d7b4166e-cc7c-4ca0-adf6-dfee72c1d12c",
        "colab": {
          "base_uri": "https://localhost:8080/",
          "height": 222
        }
      },
      "source": [
        "credit_card_data.head()"
      ],
      "execution_count": 7,
      "outputs": [
        {
          "output_type": "execute_result",
          "data": {
            "text/html": [
              "<div>\n",
              "<style scoped>\n",
              "    .dataframe tbody tr th:only-of-type {\n",
              "        vertical-align: middle;\n",
              "    }\n",
              "\n",
              "    .dataframe tbody tr th {\n",
              "        vertical-align: top;\n",
              "    }\n",
              "\n",
              "    .dataframe thead th {\n",
              "        text-align: right;\n",
              "    }\n",
              "</style>\n",
              "<table border=\"1\" class=\"dataframe\">\n",
              "  <thead>\n",
              "    <tr style=\"text-align: right;\">\n",
              "      <th></th>\n",
              "      <th>Time</th>\n",
              "      <th>V1</th>\n",
              "      <th>V2</th>\n",
              "      <th>V3</th>\n",
              "      <th>V4</th>\n",
              "      <th>V5</th>\n",
              "      <th>V6</th>\n",
              "      <th>V7</th>\n",
              "      <th>V8</th>\n",
              "      <th>V9</th>\n",
              "      <th>V10</th>\n",
              "      <th>V11</th>\n",
              "      <th>V12</th>\n",
              "      <th>V13</th>\n",
              "      <th>V14</th>\n",
              "      <th>V15</th>\n",
              "      <th>V16</th>\n",
              "      <th>V17</th>\n",
              "      <th>V18</th>\n",
              "      <th>V19</th>\n",
              "      <th>V20</th>\n",
              "      <th>V21</th>\n",
              "      <th>V22</th>\n",
              "      <th>V23</th>\n",
              "      <th>V24</th>\n",
              "      <th>V25</th>\n",
              "      <th>V26</th>\n",
              "      <th>V27</th>\n",
              "      <th>V28</th>\n",
              "      <th>Amount</th>\n",
              "      <th>Class</th>\n",
              "    </tr>\n",
              "  </thead>\n",
              "  <tbody>\n",
              "    <tr>\n",
              "      <th>0</th>\n",
              "      <td>0.0</td>\n",
              "      <td>-1.359807</td>\n",
              "      <td>-0.072781</td>\n",
              "      <td>2.536347</td>\n",
              "      <td>1.378155</td>\n",
              "      <td>-0.338321</td>\n",
              "      <td>0.462388</td>\n",
              "      <td>0.239599</td>\n",
              "      <td>0.098698</td>\n",
              "      <td>0.363787</td>\n",
              "      <td>0.090794</td>\n",
              "      <td>-0.551600</td>\n",
              "      <td>-0.617801</td>\n",
              "      <td>-0.991390</td>\n",
              "      <td>-0.311169</td>\n",
              "      <td>1.468177</td>\n",
              "      <td>-0.470401</td>\n",
              "      <td>0.207971</td>\n",
              "      <td>0.025791</td>\n",
              "      <td>0.403993</td>\n",
              "      <td>0.251412</td>\n",
              "      <td>-0.018307</td>\n",
              "      <td>0.277838</td>\n",
              "      <td>-0.110474</td>\n",
              "      <td>0.066928</td>\n",
              "      <td>0.128539</td>\n",
              "      <td>-0.189115</td>\n",
              "      <td>0.133558</td>\n",
              "      <td>-0.021053</td>\n",
              "      <td>149.62</td>\n",
              "      <td>0</td>\n",
              "    </tr>\n",
              "    <tr>\n",
              "      <th>1</th>\n",
              "      <td>0.0</td>\n",
              "      <td>1.191857</td>\n",
              "      <td>0.266151</td>\n",
              "      <td>0.166480</td>\n",
              "      <td>0.448154</td>\n",
              "      <td>0.060018</td>\n",
              "      <td>-0.082361</td>\n",
              "      <td>-0.078803</td>\n",
              "      <td>0.085102</td>\n",
              "      <td>-0.255425</td>\n",
              "      <td>-0.166974</td>\n",
              "      <td>1.612727</td>\n",
              "      <td>1.065235</td>\n",
              "      <td>0.489095</td>\n",
              "      <td>-0.143772</td>\n",
              "      <td>0.635558</td>\n",
              "      <td>0.463917</td>\n",
              "      <td>-0.114805</td>\n",
              "      <td>-0.183361</td>\n",
              "      <td>-0.145783</td>\n",
              "      <td>-0.069083</td>\n",
              "      <td>-0.225775</td>\n",
              "      <td>-0.638672</td>\n",
              "      <td>0.101288</td>\n",
              "      <td>-0.339846</td>\n",
              "      <td>0.167170</td>\n",
              "      <td>0.125895</td>\n",
              "      <td>-0.008983</td>\n",
              "      <td>0.014724</td>\n",
              "      <td>2.69</td>\n",
              "      <td>0</td>\n",
              "    </tr>\n",
              "    <tr>\n",
              "      <th>2</th>\n",
              "      <td>1.0</td>\n",
              "      <td>-1.358354</td>\n",
              "      <td>-1.340163</td>\n",
              "      <td>1.773209</td>\n",
              "      <td>0.379780</td>\n",
              "      <td>-0.503198</td>\n",
              "      <td>1.800499</td>\n",
              "      <td>0.791461</td>\n",
              "      <td>0.247676</td>\n",
              "      <td>-1.514654</td>\n",
              "      <td>0.207643</td>\n",
              "      <td>0.624501</td>\n",
              "      <td>0.066084</td>\n",
              "      <td>0.717293</td>\n",
              "      <td>-0.165946</td>\n",
              "      <td>2.345865</td>\n",
              "      <td>-2.890083</td>\n",
              "      <td>1.109969</td>\n",
              "      <td>-0.121359</td>\n",
              "      <td>-2.261857</td>\n",
              "      <td>0.524980</td>\n",
              "      <td>0.247998</td>\n",
              "      <td>0.771679</td>\n",
              "      <td>0.909412</td>\n",
              "      <td>-0.689281</td>\n",
              "      <td>-0.327642</td>\n",
              "      <td>-0.139097</td>\n",
              "      <td>-0.055353</td>\n",
              "      <td>-0.059752</td>\n",
              "      <td>378.66</td>\n",
              "      <td>0</td>\n",
              "    </tr>\n",
              "    <tr>\n",
              "      <th>3</th>\n",
              "      <td>1.0</td>\n",
              "      <td>-0.966272</td>\n",
              "      <td>-0.185226</td>\n",
              "      <td>1.792993</td>\n",
              "      <td>-0.863291</td>\n",
              "      <td>-0.010309</td>\n",
              "      <td>1.247203</td>\n",
              "      <td>0.237609</td>\n",
              "      <td>0.377436</td>\n",
              "      <td>-1.387024</td>\n",
              "      <td>-0.054952</td>\n",
              "      <td>-0.226487</td>\n",
              "      <td>0.178228</td>\n",
              "      <td>0.507757</td>\n",
              "      <td>-0.287924</td>\n",
              "      <td>-0.631418</td>\n",
              "      <td>-1.059647</td>\n",
              "      <td>-0.684093</td>\n",
              "      <td>1.965775</td>\n",
              "      <td>-1.232622</td>\n",
              "      <td>-0.208038</td>\n",
              "      <td>-0.108300</td>\n",
              "      <td>0.005274</td>\n",
              "      <td>-0.190321</td>\n",
              "      <td>-1.175575</td>\n",
              "      <td>0.647376</td>\n",
              "      <td>-0.221929</td>\n",
              "      <td>0.062723</td>\n",
              "      <td>0.061458</td>\n",
              "      <td>123.50</td>\n",
              "      <td>0</td>\n",
              "    </tr>\n",
              "    <tr>\n",
              "      <th>4</th>\n",
              "      <td>2.0</td>\n",
              "      <td>-1.158233</td>\n",
              "      <td>0.877737</td>\n",
              "      <td>1.548718</td>\n",
              "      <td>0.403034</td>\n",
              "      <td>-0.407193</td>\n",
              "      <td>0.095921</td>\n",
              "      <td>0.592941</td>\n",
              "      <td>-0.270533</td>\n",
              "      <td>0.817739</td>\n",
              "      <td>0.753074</td>\n",
              "      <td>-0.822843</td>\n",
              "      <td>0.538196</td>\n",
              "      <td>1.345852</td>\n",
              "      <td>-1.119670</td>\n",
              "      <td>0.175121</td>\n",
              "      <td>-0.451449</td>\n",
              "      <td>-0.237033</td>\n",
              "      <td>-0.038195</td>\n",
              "      <td>0.803487</td>\n",
              "      <td>0.408542</td>\n",
              "      <td>-0.009431</td>\n",
              "      <td>0.798278</td>\n",
              "      <td>-0.137458</td>\n",
              "      <td>0.141267</td>\n",
              "      <td>-0.206010</td>\n",
              "      <td>0.502292</td>\n",
              "      <td>0.219422</td>\n",
              "      <td>0.215153</td>\n",
              "      <td>69.99</td>\n",
              "      <td>0</td>\n",
              "    </tr>\n",
              "  </tbody>\n",
              "</table>\n",
              "</div>"
            ],
            "text/plain": [
              "   Time        V1        V2        V3  ...       V27       V28  Amount  Class\n",
              "0   0.0 -1.359807 -0.072781  2.536347  ...  0.133558 -0.021053  149.62      0\n",
              "1   0.0  1.191857  0.266151  0.166480  ... -0.008983  0.014724    2.69      0\n",
              "2   1.0 -1.358354 -1.340163  1.773209  ... -0.055353 -0.059752  378.66      0\n",
              "3   1.0 -0.966272 -0.185226  1.792993  ...  0.062723  0.061458  123.50      0\n",
              "4   2.0 -1.158233  0.877737  1.548718  ...  0.219422  0.215153   69.99      0\n",
              "\n",
              "[5 rows x 31 columns]"
            ]
          },
          "metadata": {
            "tags": []
          },
          "execution_count": 7
        }
      ]
    },
    {
      "cell_type": "markdown",
      "metadata": {
        "id": "z2WTOvpxgxYM",
        "colab_type": "text"
      },
      "source": [
        "Heatmap of correleation of features:\n"
      ]
    },
    {
      "cell_type": "code",
      "metadata": {
        "id": "XOzv5Bhrjqhp",
        "colab_type": "code",
        "outputId": "93509180-cb29-46d0-88ed-fb2fc0f6c55a",
        "colab": {
          "base_uri": "https://localhost:8080/",
          "height": 315
        }
      },
      "source": [
        "sns.heatmap(data = credit_card_data.corr())\n",
        "plt.title(\"Heatmap of Correlation\")"
      ],
      "execution_count": 8,
      "outputs": [
        {
          "output_type": "execute_result",
          "data": {
            "text/plain": [
              "Text(0.5, 1.0, 'Heatmap of Correlation')"
            ]
          },
          "metadata": {
            "tags": []
          },
          "execution_count": 8
        },
        {
          "output_type": "display_data",
          "data": {
            "image/png": "[encoded data removed]",
            "text/plain": [
              "<Figure size 432x288 with 2 Axes>"
            ]
          },
          "metadata": {
            "tags": []
          }
        }
      ]
    },
    {
      "cell_type": "markdown",
      "metadata": {
        "id": "trynVvd9hIxk",
        "colab_type": "text"
      },
      "source": [
        "Count of Fraud vs Non-Fraud transcations:"
      ]
    },
    {
      "cell_type": "code",
      "metadata": {
        "id": "TdAv0wFBlelE",
        "colab_type": "code",
        "outputId": "fb3c2726-f727-4507-c801-323f96706de2",
        "colab": {
          "base_uri": "https://localhost:8080/",
          "height": 313
        }
      },
      "source": [
        "sns.countplot(x = \"Class\", data = credit_card_data)\n",
        "plt.title(\"Counts of non-fraud vs fraud transactions\")"
      ],
      "execution_count": 9,
      "outputs": [
        {
          "output_type": "execute_result",
          "data": {
            "text/plain": [
              "Text(0.5, 1.0, 'Counts of non-fraud vs fraud transactions')"
            ]
          },
          "metadata": {
            "tags": []
          },
          "execution_count": 9
        },
        {
          "output_type": "display_data",
          "data": {
            "image/png": "[encoded data removed]",
            "text/plain": [
              "<Figure size 432x288 with 1 Axes>"
            ]
          },
          "metadata": {
            "tags": []
          }
        }
      ]
    },
    {
      "cell_type": "markdown",
      "metadata": {
        "id": "Mj-b3tPahY9h",
        "colab_type": "text"
      },
      "source": [
        "KDE(Smoothened Histogram) plot of amount for genuine and fraud transactions:"
      ]
    },
    {
      "cell_type": "code",
      "metadata": {
        "id": "er_pgaZ-lx7l",
        "colab_type": "code",
        "outputId": "8d506d40-2bdd-46ce-bae1-eaa90c0cecc3",
        "colab": {
          "base_uri": "https://localhost:8080/",
          "height": 285
        }
      },
      "source": [
        "sns.kdeplot(data = credit_card_data[credit_card_data[\"Class\"] == 0][\"Amount\"], label = \"Genuine\", shade = True)\n",
        "sns.kdeplot(data = credit_card_data[credit_card_data[\"Class\"] == 1][\"Amount\"], label = \"Fraud\", shade = True)\n",
        "plt.legend()"
      ],
      "execution_count": 10,
      "outputs": [
        {
          "output_type": "execute_result",
          "data": {
            "text/plain": [
              "<matplotlib.legend.Legend at 0x7f4dfd07dcc0>"
            ]
          },
          "metadata": {
            "tags": []
          },
          "execution_count": 10
        },
        {
          "output_type": "display_data",
          "data": {
            "image/png": "[encoded data removed]",
            "text/plain": [
              "<Figure size 432x288 with 1 Axes>"
            ]
          },
          "metadata": {
            "tags": []
          }
        }
      ]
    },
    {
      "cell_type": "markdown",
      "metadata": {
        "id": "wbc-9nPBhosR",
        "colab_type": "text"
      },
      "source": [
        "Plotting Time against Amount to see difference in distribution between Genuine and Fraud transactions:"
      ]
    },
    {
      "cell_type": "code",
      "metadata": {
        "id": "zNvMVw4n7DKs",
        "colab_type": "code",
        "outputId": "6997b044-91b7-4940-b8ce-017f823a6721",
        "colab": {
          "base_uri": "https://localhost:8080/",
          "height": 300
        }
      },
      "source": [
        "f, (ax1, ax2) = plt.subplots(1,2, figsize = (20, 6))\n",
        "sns.scatterplot(x = \"Time\", y = \"Amount\",ax = ax1, data = credit_card_data[credit_card_data[\"Class\"] == 0])\n",
        "ax1.set_title(\"Genuine Transactions\")\n",
        "sns.scatterplot(x = \"Time\", y = \"Amount\", ax = ax2, data = credit_card_data[credit_card_data[\"Class\"] == 1], color = \"red\")\n",
        "ax2.set_title(\"Fraudulent Transactions\")\n",
        "plt.show()"
      ],
      "execution_count": 11,
      "outputs": [
        {
          "output_type": "display_data",
          "data": {
            "image/png": "[encoded data removed]",
            "text/plain": [
              "<Figure size 1440x432 with 2 Axes>"
            ]
          },
          "metadata": {
            "tags": []
          }
        }
      ]
    },
    {
      "cell_type": "markdown",
      "metadata": {
        "id": "Q6OTozuwiVu9",
        "colab_type": "text"
      },
      "source": [
        "Reducing number of genuine transactions as the number of genuine transactions are way more than fraud transactions. If we don't reduce, our classifier will always classify as genuine for every transaction."
      ]
    },
    {
      "cell_type": "code",
      "metadata": {
        "id": "Z86bgl8k_J_x",
        "colab_type": "code",
        "outputId": "8cecb322-a948-48ec-af9a-544186f151d6",
        "colab": {
          "base_uri": "https://localhost:8080/",
          "height": 222
        }
      },
      "source": [
        "from sklearn import linear_model\n",
        "from sklearn.ensemble import RandomForestClassifier\n",
        "from sklearn.model_selection import train_test_split\n",
        "from sklearn.decomposition import PCA, TruncatedSVD\n",
        "genuine = credit_card_data[credit_card_data[\"Class\"] == 0]\n",
        "fraud = credit_card_data[credit_card_data[\"Class\"] == 1]\n",
        "length = len(fraud.index)\n",
        "genuine = genuine.sample(frac = 1, random_state = 42)\n",
        "genuine = genuine.iloc[:length,:]\n",
        "genuine.head()\n",
        "\n",
        "\n"
      ],
      "execution_count": 67,
      "outputs": [
        {
          "output_type": "execute_result",
          "data": {
            "text/html": [
              "<div>\n",
              "<style scoped>\n",
              "    .dataframe tbody tr th:only-of-type {\n",
              "        vertical-align: middle;\n",
              "    }\n",
              "\n",
              "    .dataframe tbody tr th {\n",
              "        vertical-align: top;\n",
              "    }\n",
              "\n",
              "    .dataframe thead th {\n",
              "        text-align: right;\n",
              "    }\n",
              "</style>\n",
              "<table border=\"1\" class=\"dataframe\">\n",
              "  <thead>\n",
              "    <tr style=\"text-align: right;\">\n",
              "      <th></th>\n",
              "      <th>Time</th>\n",
              "      <th>V1</th>\n",
              "      <th>V2</th>\n",
              "      <th>V3</th>\n",
              "      <th>V4</th>\n",
              "      <th>V5</th>\n",
              "      <th>V6</th>\n",
              "      <th>V7</th>\n",
              "      <th>V8</th>\n",
              "      <th>V9</th>\n",
              "      <th>V10</th>\n",
              "      <th>V11</th>\n",
              "      <th>V12</th>\n",
              "      <th>V13</th>\n",
              "      <th>V14</th>\n",
              "      <th>V15</th>\n",
              "      <th>V16</th>\n",
              "      <th>V17</th>\n",
              "      <th>V18</th>\n",
              "      <th>V19</th>\n",
              "      <th>V20</th>\n",
              "      <th>V21</th>\n",
              "      <th>V22</th>\n",
              "      <th>V23</th>\n",
              "      <th>V24</th>\n",
              "      <th>V25</th>\n",
              "      <th>V26</th>\n",
              "      <th>V27</th>\n",
              "      <th>V28</th>\n",
              "      <th>Amount</th>\n",
              "      <th>Class</th>\n",
              "    </tr>\n",
              "  </thead>\n",
              "  <tbody>\n",
              "    <tr>\n",
              "      <th>138028</th>\n",
              "      <td>82450.0</td>\n",
              "      <td>1.314539</td>\n",
              "      <td>0.590643</td>\n",
              "      <td>-0.666593</td>\n",
              "      <td>0.716564</td>\n",
              "      <td>0.301978</td>\n",
              "      <td>-1.125467</td>\n",
              "      <td>0.388881</td>\n",
              "      <td>-0.288390</td>\n",
              "      <td>-0.132137</td>\n",
              "      <td>-0.597739</td>\n",
              "      <td>-0.325347</td>\n",
              "      <td>-0.216435</td>\n",
              "      <td>0.084204</td>\n",
              "      <td>-1.054631</td>\n",
              "      <td>0.967932</td>\n",
              "      <td>0.601226</td>\n",
              "      <td>0.631117</td>\n",
              "      <td>0.295078</td>\n",
              "      <td>-0.136151</td>\n",
              "      <td>-0.058040</td>\n",
              "      <td>-0.170307</td>\n",
              "      <td>-0.429655</td>\n",
              "      <td>-0.141341</td>\n",
              "      <td>-0.200195</td>\n",
              "      <td>0.639491</td>\n",
              "      <td>0.399476</td>\n",
              "      <td>-0.034321</td>\n",
              "      <td>0.031692</td>\n",
              "      <td>0.76</td>\n",
              "      <td>0</td>\n",
              "    </tr>\n",
              "    <tr>\n",
              "      <th>63099</th>\n",
              "      <td>50554.0</td>\n",
              "      <td>-0.798672</td>\n",
              "      <td>1.185093</td>\n",
              "      <td>0.904547</td>\n",
              "      <td>0.694584</td>\n",
              "      <td>0.219041</td>\n",
              "      <td>-0.319295</td>\n",
              "      <td>0.495236</td>\n",
              "      <td>0.139269</td>\n",
              "      <td>-0.760214</td>\n",
              "      <td>0.170547</td>\n",
              "      <td>0.821998</td>\n",
              "      <td>0.468322</td>\n",
              "      <td>-0.057550</td>\n",
              "      <td>0.573006</td>\n",
              "      <td>0.358688</td>\n",
              "      <td>-0.011633</td>\n",
              "      <td>-0.504570</td>\n",
              "      <td>0.722750</td>\n",
              "      <td>0.861541</td>\n",
              "      <td>-0.081298</td>\n",
              "      <td>0.202287</td>\n",
              "      <td>0.578699</td>\n",
              "      <td>-0.092245</td>\n",
              "      <td>0.013723</td>\n",
              "      <td>-0.246466</td>\n",
              "      <td>-0.380057</td>\n",
              "      <td>-0.396030</td>\n",
              "      <td>-0.112901</td>\n",
              "      <td>4.18</td>\n",
              "      <td>0</td>\n",
              "    </tr>\n",
              "    <tr>\n",
              "      <th>73411</th>\n",
              "      <td>55125.0</td>\n",
              "      <td>-0.391128</td>\n",
              "      <td>-0.245540</td>\n",
              "      <td>1.122074</td>\n",
              "      <td>-1.308725</td>\n",
              "      <td>-0.639891</td>\n",
              "      <td>0.008678</td>\n",
              "      <td>-0.701304</td>\n",
              "      <td>-0.027315</td>\n",
              "      <td>-2.628854</td>\n",
              "      <td>2.051312</td>\n",
              "      <td>0.575866</td>\n",
              "      <td>-0.594037</td>\n",
              "      <td>1.097880</td>\n",
              "      <td>-0.338340</td>\n",
              "      <td>0.617523</td>\n",
              "      <td>-0.756390</td>\n",
              "      <td>0.535141</td>\n",
              "      <td>1.016704</td>\n",
              "      <td>2.133828</td>\n",
              "      <td>0.065716</td>\n",
              "      <td>-0.133485</td>\n",
              "      <td>0.117403</td>\n",
              "      <td>-0.191748</td>\n",
              "      <td>-0.488642</td>\n",
              "      <td>-0.309774</td>\n",
              "      <td>0.008100</td>\n",
              "      <td>0.163716</td>\n",
              "      <td>0.239582</td>\n",
              "      <td>15.00</td>\n",
              "      <td>0</td>\n",
              "    </tr>\n",
              "    <tr>\n",
              "      <th>164247</th>\n",
              "      <td>116572.0</td>\n",
              "      <td>-0.060302</td>\n",
              "      <td>1.065093</td>\n",
              "      <td>-0.987421</td>\n",
              "      <td>-0.029567</td>\n",
              "      <td>0.176376</td>\n",
              "      <td>-1.348539</td>\n",
              "      <td>0.775644</td>\n",
              "      <td>0.134843</td>\n",
              "      <td>-0.149734</td>\n",
              "      <td>-1.238598</td>\n",
              "      <td>-0.841133</td>\n",
              "      <td>-0.586472</td>\n",
              "      <td>-0.779620</td>\n",
              "      <td>-0.436671</td>\n",
              "      <td>0.747871</td>\n",
              "      <td>0.266437</td>\n",
              "      <td>0.703234</td>\n",
              "      <td>0.916719</td>\n",
              "      <td>-0.189967</td>\n",
              "      <td>-0.169706</td>\n",
              "      <td>0.355576</td>\n",
              "      <td>0.907570</td>\n",
              "      <td>-0.018454</td>\n",
              "      <td>-0.126269</td>\n",
              "      <td>-0.339923</td>\n",
              "      <td>-0.150285</td>\n",
              "      <td>-0.023634</td>\n",
              "      <td>0.042330</td>\n",
              "      <td>57.00</td>\n",
              "      <td>0</td>\n",
              "    </tr>\n",
              "    <tr>\n",
              "      <th>148999</th>\n",
              "      <td>90434.0</td>\n",
              "      <td>1.848433</td>\n",
              "      <td>0.373364</td>\n",
              "      <td>0.269272</td>\n",
              "      <td>3.866438</td>\n",
              "      <td>0.088062</td>\n",
              "      <td>0.970447</td>\n",
              "      <td>-0.721945</td>\n",
              "      <td>0.235983</td>\n",
              "      <td>0.683491</td>\n",
              "      <td>1.166335</td>\n",
              "      <td>1.297531</td>\n",
              "      <td>-1.920966</td>\n",
              "      <td>1.885047</td>\n",
              "      <td>1.323225</td>\n",
              "      <td>-2.044482</td>\n",
              "      <td>1.317655</td>\n",
              "      <td>-0.441076</td>\n",
              "      <td>0.804104</td>\n",
              "      <td>-1.658339</td>\n",
              "      <td>-0.282777</td>\n",
              "      <td>0.103563</td>\n",
              "      <td>0.620954</td>\n",
              "      <td>0.197077</td>\n",
              "      <td>0.692392</td>\n",
              "      <td>-0.206530</td>\n",
              "      <td>-0.021328</td>\n",
              "      <td>-0.019823</td>\n",
              "      <td>-0.042682</td>\n",
              "      <td>0.00</td>\n",
              "      <td>0</td>\n",
              "    </tr>\n",
              "  </tbody>\n",
              "</table>\n",
              "</div>"
            ],
            "text/plain": [
              "            Time        V1        V2  ...       V28  Amount  Class\n",
              "138028   82450.0  1.314539  0.590643  ...  0.031692    0.76      0\n",
              "63099    50554.0 -0.798672  1.185093  ... -0.112901    4.18      0\n",
              "73411    55125.0 -0.391128 -0.245540  ...  0.239582   15.00      0\n",
              "164247  116572.0 -0.060302  1.065093  ...  0.042330   57.00      0\n",
              "148999   90434.0  1.848433  0.373364  ... -0.042682    0.00      0\n",
              "\n",
              "[5 rows x 31 columns]"
            ]
          },
          "metadata": {
            "tags": []
          },
          "execution_count": 67
        }
      ]
    },
    {
      "cell_type": "code",
      "metadata": {
        "id": "MF0iGLqzMOD-",
        "colab_type": "code",
        "outputId": "32b45a29-b50b-4139-8fea-842d1c691123",
        "colab": {
          "base_uri": "https://localhost:8080/",
          "height": 313
        }
      },
      "source": [
        "final_df = pd.concat([fraud,genuine]).sample(frac = 1, random_state = 42)\n",
        "sns.countplot(x = \"Class\", data = final_df)\n",
        "plt.title(\"Counts of non-fraud vs fraud transactions\")"
      ],
      "execution_count": 68,
      "outputs": [
        {
          "output_type": "execute_result",
          "data": {
            "text/plain": [
              "Text(0.5, 1.0, 'Counts of non-fraud vs fraud transactions')"
            ]
          },
          "metadata": {
            "tags": []
          },
          "execution_count": 68
        },
        {
          "output_type": "display_data",
          "data": {
            "image/png": "[encoded data removed]",
            "text/plain": [
              "<Figure size 432x288 with 1 Axes>"
            ]
          },
          "metadata": {
            "tags": []
          }
        }
      ]
    },
    {
      "cell_type": "code",
      "metadata": {
        "id": "e-9e3O5tb0nh",
        "colab_type": "code",
        "colab": {
          "base_uri": "https://localhost:8080/",
          "height": 303
        },
        "outputId": "a0e553f1-c1e5-44d6-9aff-d977954553a2"
      },
      "source": [
        "sns.heatmap(data = final_df.corr())"
      ],
      "execution_count": 69,
      "outputs": [
        {
          "output_type": "execute_result",
          "data": {
            "text/plain": [
              "<matplotlib.axes._subplots.AxesSubplot at 0x7f4df1829cc0>"
            ]
          },
          "metadata": {
            "tags": []
          },
          "execution_count": 69
        },
        {
          "output_type": "display_data",
          "data": {
            "image/png": "[encoded data removed]",
            "text/plain": [
              "<Figure size 432x288 with 2 Axes>"
            ]
          },
          "metadata": {
            "tags": []
          }
        }
      ]
    },
    {
      "cell_type": "markdown",
      "metadata": {
        "id": "DG5vq_KMjOOi",
        "colab_type": "text"
      },
      "source": [
        "Visualizing distribution for time and amount."
      ]
    },
    {
      "cell_type": "code",
      "metadata": {
        "id": "vdKViCT1cXYA",
        "colab_type": "code",
        "colab": {
          "base_uri": "https://localhost:8080/",
          "height": 299
        },
        "outputId": "a0c15757-6ce1-4fa4-d80f-adfadeefef4b"
      },
      "source": [
        "sns.kdeplot(data = final_df[final_df[\"Class\"] == 0][\"Amount\"], label = \"Genuine\", shade = True)\n",
        "sns.kdeplot(data = final_df[final_df[\"Class\"] == 1][\"Amount\"], label = \"Fraud\", shade = True)\n",
        "plt.legend()\n",
        "plt.title(\"Amount KDE\")"
      ],
      "execution_count": 70,
      "outputs": [
        {
          "output_type": "execute_result",
          "data": {
            "text/plain": [
              "Text(0.5, 1.0, 'Amount KDE')"
            ]
          },
          "metadata": {
            "tags": []
          },
          "execution_count": 70
        },
        {
          "output_type": "display_data",
          "data": {
            "image/png": "[encoded data removed]",
            "text/plain": [
              "<Figure size 432x288 with 1 Axes>"
            ]
          },
          "metadata": {
            "tags": []
          }
        }
      ]
    },
    {
      "cell_type": "code",
      "metadata": {
        "id": "jS5bSGAwcxSb",
        "colab_type": "code",
        "colab": {
          "base_uri": "https://localhost:8080/",
          "height": 299
        },
        "outputId": "8bd68063-cf19-43b4-fc14-680701b41c15"
      },
      "source": [
        "sns.kdeplot(data = final_df[final_df[\"Class\"] == 0][\"Time\"], label = \"Genuine\", shade = True)\n",
        "sns.kdeplot(data = final_df[final_df[\"Class\"] == 1][\"Time\"], label = \"Fraud\", shade = True)\n",
        "plt.legend()\n",
        "plt.title(\"Time KDE\")"
      ],
      "execution_count": 71,
      "outputs": [
        {
          "output_type": "execute_result",
          "data": {
            "text/plain": [
              "Text(0.5, 1.0, 'Time KDE')"
            ]
          },
          "metadata": {
            "tags": []
          },
          "execution_count": 71
        },
        {
          "output_type": "display_data",
          "data": {
            "image/png": "[encoded data removed]",
            "text/plain": [
              "<Figure size 432x288 with 1 Axes>"
            ]
          },
          "metadata": {
            "tags": []
          }
        }
      ]
    },
    {
      "cell_type": "code",
      "metadata": {
        "id": "Js4mNZS5f4-P",
        "colab_type": "code",
        "colab": {
          "base_uri": "https://localhost:8080/",
          "height": 202
        },
        "outputId": "4654ccca-4ee7-4e23-8577-89fd73db7947"
      },
      "source": [
        "final_df[[\"Time\",\"Class\"]].head()"
      ],
      "execution_count": 72,
      "outputs": [
        {
          "output_type": "execute_result",
          "data": {
            "text/html": [
              "<div>\n",
              "<style scoped>\n",
              "    .dataframe tbody tr th:only-of-type {\n",
              "        vertical-align: middle;\n",
              "    }\n",
              "\n",
              "    .dataframe tbody tr th {\n",
              "        vertical-align: top;\n",
              "    }\n",
              "\n",
              "    .dataframe thead th {\n",
              "        text-align: right;\n",
              "    }\n",
              "</style>\n",
              "<table border=\"1\" class=\"dataframe\">\n",
              "  <thead>\n",
              "    <tr style=\"text-align: right;\">\n",
              "      <th></th>\n",
              "      <th>Time</th>\n",
              "      <th>Class</th>\n",
              "    </tr>\n",
              "  </thead>\n",
              "  <tbody>\n",
              "    <tr>\n",
              "      <th>255545</th>\n",
              "      <td>157278.0</td>\n",
              "      <td>0</td>\n",
              "    </tr>\n",
              "    <tr>\n",
              "      <th>248296</th>\n",
              "      <td>153875.0</td>\n",
              "      <td>1</td>\n",
              "    </tr>\n",
              "    <tr>\n",
              "      <th>76163</th>\n",
              "      <td>56424.0</td>\n",
              "      <td>0</td>\n",
              "    </tr>\n",
              "    <tr>\n",
              "      <th>239501</th>\n",
              "      <td>150139.0</td>\n",
              "      <td>1</td>\n",
              "    </tr>\n",
              "    <tr>\n",
              "      <th>143336</th>\n",
              "      <td>85285.0</td>\n",
              "      <td>1</td>\n",
              "    </tr>\n",
              "  </tbody>\n",
              "</table>\n",
              "</div>"
            ],
            "text/plain": [
              "            Time  Class\n",
              "255545  157278.0      0\n",
              "248296  153875.0      1\n",
              "76163    56424.0      0\n",
              "239501  150139.0      1\n",
              "143336   85285.0      1"
            ]
          },
          "metadata": {
            "tags": []
          },
          "execution_count": 72
        }
      ]
    },
    {
      "cell_type": "code",
      "metadata": {
        "id": "xGj39FCtOB8K",
        "colab_type": "code",
        "outputId": "b9ca089f-65d1-415c-e61f-fad888048b70",
        "colab": {
          "base_uri": "https://localhost:8080/",
          "height": 222
        }
      },
      "source": [
        "y_df = final_df[\"Class\"]\n",
        "x_df = final_df.drop(columns = [\"Class\"])\n",
        "x_df.head()"
      ],
      "execution_count": 73,
      "outputs": [
        {
          "output_type": "execute_result",
          "data": {
            "text/html": [
              "<div>\n",
              "<style scoped>\n",
              "    .dataframe tbody tr th:only-of-type {\n",
              "        vertical-align: middle;\n",
              "    }\n",
              "\n",
              "    .dataframe tbody tr th {\n",
              "        vertical-align: top;\n",
              "    }\n",
              "\n",
              "    .dataframe thead th {\n",
              "        text-align: right;\n",
              "    }\n",
              "</style>\n",
              "<table border=\"1\" class=\"dataframe\">\n",
              "  <thead>\n",
              "    <tr style=\"text-align: right;\">\n",
              "      <th></th>\n",
              "      <th>Time</th>\n",
              "      <th>V1</th>\n",
              "      <th>V2</th>\n",
              "      <th>V3</th>\n",
              "      <th>V4</th>\n",
              "      <th>V5</th>\n",
              "      <th>V6</th>\n",
              "      <th>V7</th>\n",
              "      <th>V8</th>\n",
              "      <th>V9</th>\n",
              "      <th>V10</th>\n",
              "      <th>V11</th>\n",
              "      <th>V12</th>\n",
              "      <th>V13</th>\n",
              "      <th>V14</th>\n",
              "      <th>V15</th>\n",
              "      <th>V16</th>\n",
              "      <th>V17</th>\n",
              "      <th>V18</th>\n",
              "      <th>V19</th>\n",
              "      <th>V20</th>\n",
              "      <th>V21</th>\n",
              "      <th>V22</th>\n",
              "      <th>V23</th>\n",
              "      <th>V24</th>\n",
              "      <th>V25</th>\n",
              "      <th>V26</th>\n",
              "      <th>V27</th>\n",
              "      <th>V28</th>\n",
              "      <th>Amount</th>\n",
              "    </tr>\n",
              "  </thead>\n",
              "  <tbody>\n",
              "    <tr>\n",
              "      <th>255545</th>\n",
              "      <td>157278.0</td>\n",
              "      <td>1.984787</td>\n",
              "      <td>-1.937036</td>\n",
              "      <td>0.486613</td>\n",
              "      <td>-1.245536</td>\n",
              "      <td>-2.518536</td>\n",
              "      <td>-0.544524</td>\n",
              "      <td>-1.819244</td>\n",
              "      <td>-0.074875</td>\n",
              "      <td>-0.659777</td>\n",
              "      <td>1.407038</td>\n",
              "      <td>-0.494081</td>\n",
              "      <td>0.078141</td>\n",
              "      <td>1.933232</td>\n",
              "      <td>-1.231701</td>\n",
              "      <td>0.336300</td>\n",
              "      <td>-0.007638</td>\n",
              "      <td>0.229932</td>\n",
              "      <td>0.391021</td>\n",
              "      <td>-0.791486</td>\n",
              "      <td>-0.127858</td>\n",
              "      <td>0.174011</td>\n",
              "      <td>0.889289</td>\n",
              "      <td>0.218248</td>\n",
              "      <td>0.492384</td>\n",
              "      <td>-0.584599</td>\n",
              "      <td>-0.135040</td>\n",
              "      <td>0.070319</td>\n",
              "      <td>-0.000205</td>\n",
              "      <td>120.00</td>\n",
              "    </tr>\n",
              "    <tr>\n",
              "      <th>248296</th>\n",
              "      <td>153875.0</td>\n",
              "      <td>-0.613696</td>\n",
              "      <td>3.698772</td>\n",
              "      <td>-5.534941</td>\n",
              "      <td>5.620486</td>\n",
              "      <td>1.649263</td>\n",
              "      <td>-2.335145</td>\n",
              "      <td>-0.907188</td>\n",
              "      <td>0.706362</td>\n",
              "      <td>-3.747646</td>\n",
              "      <td>-4.230984</td>\n",
              "      <td>4.436319</td>\n",
              "      <td>-4.503801</td>\n",
              "      <td>-0.954361</td>\n",
              "      <td>-9.861372</td>\n",
              "      <td>-0.505329</td>\n",
              "      <td>0.269282</td>\n",
              "      <td>0.591319</td>\n",
              "      <td>1.795992</td>\n",
              "      <td>-1.085208</td>\n",
              "      <td>0.354773</td>\n",
              "      <td>0.319261</td>\n",
              "      <td>-0.471379</td>\n",
              "      <td>-0.075890</td>\n",
              "      <td>-0.667909</td>\n",
              "      <td>-0.642848</td>\n",
              "      <td>0.070600</td>\n",
              "      <td>0.488410</td>\n",
              "      <td>0.292345</td>\n",
              "      <td>0.00</td>\n",
              "    </tr>\n",
              "    <tr>\n",
              "      <th>76163</th>\n",
              "      <td>56424.0</td>\n",
              "      <td>0.319007</td>\n",
              "      <td>-1.072867</td>\n",
              "      <td>-0.216146</td>\n",
              "      <td>1.494709</td>\n",
              "      <td>-0.627063</td>\n",
              "      <td>-0.761867</td>\n",
              "      <td>0.941687</td>\n",
              "      <td>-0.430272</td>\n",
              "      <td>-0.267431</td>\n",
              "      <td>-0.245992</td>\n",
              "      <td>-0.172332</td>\n",
              "      <td>0.887635</td>\n",
              "      <td>1.364419</td>\n",
              "      <td>0.242646</td>\n",
              "      <td>0.839773</td>\n",
              "      <td>0.053425</td>\n",
              "      <td>-0.486721</td>\n",
              "      <td>-0.209113</td>\n",
              "      <td>-0.530747</td>\n",
              "      <td>0.914995</td>\n",
              "      <td>0.332521</td>\n",
              "      <td>-0.022461</td>\n",
              "      <td>-0.537691</td>\n",
              "      <td>0.452072</td>\n",
              "      <td>0.555495</td>\n",
              "      <td>-0.383543</td>\n",
              "      <td>-0.068520</td>\n",
              "      <td>0.106578</td>\n",
              "      <td>484.00</td>\n",
              "    </tr>\n",
              "    <tr>\n",
              "      <th>239501</th>\n",
              "      <td>150139.0</td>\n",
              "      <td>-6.682832</td>\n",
              "      <td>-2.714268</td>\n",
              "      <td>-5.774530</td>\n",
              "      <td>1.449792</td>\n",
              "      <td>-0.661836</td>\n",
              "      <td>-1.148650</td>\n",
              "      <td>0.849686</td>\n",
              "      <td>0.433427</td>\n",
              "      <td>-1.315646</td>\n",
              "      <td>-2.796332</td>\n",
              "      <td>-0.448794</td>\n",
              "      <td>-2.562602</td>\n",
              "      <td>0.243483</td>\n",
              "      <td>-1.181669</td>\n",
              "      <td>0.004373</td>\n",
              "      <td>-2.302596</td>\n",
              "      <td>-4.446192</td>\n",
              "      <td>-1.710463</td>\n",
              "      <td>0.982729</td>\n",
              "      <td>-1.928527</td>\n",
              "      <td>0.220526</td>\n",
              "      <td>1.187013</td>\n",
              "      <td>0.335821</td>\n",
              "      <td>0.215683</td>\n",
              "      <td>0.803110</td>\n",
              "      <td>0.044033</td>\n",
              "      <td>-0.054988</td>\n",
              "      <td>0.082337</td>\n",
              "      <td>237.26</td>\n",
              "    </tr>\n",
              "    <tr>\n",
              "      <th>143336</th>\n",
              "      <td>85285.0</td>\n",
              "      <td>-6.713407</td>\n",
              "      <td>3.921104</td>\n",
              "      <td>-9.746678</td>\n",
              "      <td>5.148263</td>\n",
              "      <td>-5.151563</td>\n",
              "      <td>-2.099389</td>\n",
              "      <td>-5.937767</td>\n",
              "      <td>3.578780</td>\n",
              "      <td>-4.684952</td>\n",
              "      <td>-8.537758</td>\n",
              "      <td>6.348979</td>\n",
              "      <td>-8.681609</td>\n",
              "      <td>0.251179</td>\n",
              "      <td>-11.608002</td>\n",
              "      <td>-0.351569</td>\n",
              "      <td>-5.363566</td>\n",
              "      <td>-11.939092</td>\n",
              "      <td>-3.583603</td>\n",
              "      <td>0.897402</td>\n",
              "      <td>0.135711</td>\n",
              "      <td>0.954272</td>\n",
              "      <td>-0.451086</td>\n",
              "      <td>0.127214</td>\n",
              "      <td>-0.339450</td>\n",
              "      <td>0.394096</td>\n",
              "      <td>1.075295</td>\n",
              "      <td>1.649906</td>\n",
              "      <td>-0.394905</td>\n",
              "      <td>252.92</td>\n",
              "    </tr>\n",
              "  </tbody>\n",
              "</table>\n",
              "</div>"
            ],
            "text/plain": [
              "            Time        V1        V2  ...       V27       V28  Amount\n",
              "255545  157278.0  1.984787 -1.937036  ...  0.070319 -0.000205  120.00\n",
              "248296  153875.0 -0.613696  3.698772  ...  0.488410  0.292345    0.00\n",
              "76163    56424.0  0.319007 -1.072867  ... -0.068520  0.106578  484.00\n",
              "239501  150139.0 -6.682832 -2.714268  ... -0.054988  0.082337  237.26\n",
              "143336   85285.0 -6.713407  3.921104  ...  1.649906 -0.394905  252.92\n",
              "\n",
              "[5 rows x 30 columns]"
            ]
          },
          "metadata": {
            "tags": []
          },
          "execution_count": 73
        }
      ]
    },
    {
      "cell_type": "markdown",
      "metadata": {
        "id": "EPXneGvVlRfB",
        "colab_type": "text"
      },
      "source": [
        "Splitting Dataset:\n"
      ]
    },
    {
      "cell_type": "code",
      "metadata": {
        "id": "4wdlmq5UbgQX",
        "colab_type": "code",
        "colab": {}
      },
      "source": [
        "x_train, x_test, y_train, y_test = train_test_split(x_df,y_df, test_size = 0.2, random_state = 42 )"
      ],
      "execution_count": 0,
      "outputs": []
    },
    {
      "cell_type": "markdown",
      "metadata": {
        "id": "T-Bbg9Aml1jr",
        "colab_type": "text"
      },
      "source": [
        "Reducing Features V1, V2, V3.... as they are not understood and most of them have a high correlation with each other."
      ]
    },
    {
      "cell_type": "code",
      "metadata": {
        "id": "f8M5qjhVS201",
        "colab_type": "code",
        "outputId": "c99ef21e-d31a-4f49-82b4-9ae8a5c6ee30",
        "colab": {
          "base_uri": "https://localhost:8080/",
          "height": 222
        }
      },
      "source": [
        "reduce_df = x_train[[\"V1\",\"V2\",\"V3\",\"V4\",\"V5\",\"V6\",\"V7\",\"V8\",\"V9\",\"V10\",\"V11\",\"V12\",\"V13\",\"V14\",\"V15\",\"V16\",\"V17\",\"V18\",\"V19\",\"V20\",\"V21\",\"V22\",\"V23\",\"V24\",\"V25\",\"V26\",\"V27\",\"V28\"]]\n",
        "reduce_test =  x_test[[\"V1\",\"V2\",\"V3\",\"V4\",\"V5\",\"V6\",\"V7\",\"V8\",\"V9\",\"V10\",\"V11\",\"V12\",\"V13\",\"V14\",\"V15\",\"V16\",\"V17\",\"V18\",\"V19\",\"V20\",\"V21\",\"V22\",\"V23\",\"V24\",\"V25\",\"V26\",\"V27\",\"V28\"]]\n",
        "reduce_df.head()"
      ],
      "execution_count": 75,
      "outputs": [
        {
          "output_type": "execute_result",
          "data": {
            "text/html": [
              "<div>\n",
              "<style scoped>\n",
              "    .dataframe tbody tr th:only-of-type {\n",
              "        vertical-align: middle;\n",
              "    }\n",
              "\n",
              "    .dataframe tbody tr th {\n",
              "        vertical-align: top;\n",
              "    }\n",
              "\n",
              "    .dataframe thead th {\n",
              "        text-align: right;\n",
              "    }\n",
              "</style>\n",
              "<table border=\"1\" class=\"dataframe\">\n",
              "  <thead>\n",
              "    <tr style=\"text-align: right;\">\n",
              "      <th></th>\n",
              "      <th>V1</th>\n",
              "      <th>V2</th>\n",
              "      <th>V3</th>\n",
              "      <th>V4</th>\n",
              "      <th>V5</th>\n",
              "      <th>V6</th>\n",
              "      <th>V7</th>\n",
              "      <th>V8</th>\n",
              "      <th>V9</th>\n",
              "      <th>V10</th>\n",
              "      <th>V11</th>\n",
              "      <th>V12</th>\n",
              "      <th>V13</th>\n",
              "      <th>V14</th>\n",
              "      <th>V15</th>\n",
              "      <th>V16</th>\n",
              "      <th>V17</th>\n",
              "      <th>V18</th>\n",
              "      <th>V19</th>\n",
              "      <th>V20</th>\n",
              "      <th>V21</th>\n",
              "      <th>V22</th>\n",
              "      <th>V23</th>\n",
              "      <th>V24</th>\n",
              "      <th>V25</th>\n",
              "      <th>V26</th>\n",
              "      <th>V27</th>\n",
              "      <th>V28</th>\n",
              "    </tr>\n",
              "  </thead>\n",
              "  <tbody>\n",
              "    <tr>\n",
              "      <th>150679</th>\n",
              "      <td>-12.833631</td>\n",
              "      <td>7.508790</td>\n",
              "      <td>-20.491952</td>\n",
              "      <td>7.465780</td>\n",
              "      <td>-11.575304</td>\n",
              "      <td>-5.140999</td>\n",
              "      <td>-14.020564</td>\n",
              "      <td>8.332120</td>\n",
              "      <td>-4.337713</td>\n",
              "      <td>-15.563791</td>\n",
              "      <td>7.610820</td>\n",
              "      <td>-15.592323</td>\n",
              "      <td>0.504789</td>\n",
              "      <td>-13.247889</td>\n",
              "      <td>-0.796526</td>\n",
              "      <td>-10.342328</td>\n",
              "      <td>-16.044524</td>\n",
              "      <td>-5.882136</td>\n",
              "      <td>1.573698</td>\n",
              "      <td>-1.378923</td>\n",
              "      <td>2.966842</td>\n",
              "      <td>0.615344</td>\n",
              "      <td>-0.766495</td>\n",
              "      <td>0.431261</td>\n",
              "      <td>-0.104975</td>\n",
              "      <td>-0.010091</td>\n",
              "      <td>-2.400811</td>\n",
              "      <td>-0.720557</td>\n",
              "    </tr>\n",
              "    <tr>\n",
              "      <th>157183</th>\n",
              "      <td>2.063423</td>\n",
              "      <td>-0.084832</td>\n",
              "      <td>-0.595908</td>\n",
              "      <td>0.247028</td>\n",
              "      <td>0.088872</td>\n",
              "      <td>0.079969</td>\n",
              "      <td>-0.529464</td>\n",
              "      <td>-0.106960</td>\n",
              "      <td>2.475820</td>\n",
              "      <td>-0.636222</td>\n",
              "      <td>-0.265922</td>\n",
              "      <td>-1.685104</td>\n",
              "      <td>3.019578</td>\n",
              "      <td>1.221443</td>\n",
              "      <td>0.301333</td>\n",
              "      <td>0.384456</td>\n",
              "      <td>-0.286309</td>\n",
              "      <td>0.425713</td>\n",
              "      <td>-0.063735</td>\n",
              "      <td>-0.159712</td>\n",
              "      <td>-0.310464</td>\n",
              "      <td>-0.488751</td>\n",
              "      <td>0.294093</td>\n",
              "      <td>-0.058378</td>\n",
              "      <td>-0.233223</td>\n",
              "      <td>-0.956389</td>\n",
              "      <td>0.033984</td>\n",
              "      <td>-0.031238</td>\n",
              "    </tr>\n",
              "    <tr>\n",
              "      <th>74507</th>\n",
              "      <td>-7.427924</td>\n",
              "      <td>2.948209</td>\n",
              "      <td>-8.678550</td>\n",
              "      <td>5.185303</td>\n",
              "      <td>-4.761090</td>\n",
              "      <td>-0.957095</td>\n",
              "      <td>-7.773380</td>\n",
              "      <td>0.717309</td>\n",
              "      <td>-3.682359</td>\n",
              "      <td>-8.403150</td>\n",
              "      <td>5.705206</td>\n",
              "      <td>-8.640746</td>\n",
              "      <td>-1.602925</td>\n",
              "      <td>-9.466139</td>\n",
              "      <td>0.137324</td>\n",
              "      <td>-7.303243</td>\n",
              "      <td>-12.448039</td>\n",
              "      <td>-4.332834</td>\n",
              "      <td>2.352030</td>\n",
              "      <td>-0.123085</td>\n",
              "      <td>-0.299847</td>\n",
              "      <td>0.610479</td>\n",
              "      <td>0.789023</td>\n",
              "      <td>-0.564512</td>\n",
              "      <td>0.201196</td>\n",
              "      <td>-0.111225</td>\n",
              "      <td>1.144599</td>\n",
              "      <td>0.102280</td>\n",
              "    </tr>\n",
              "    <tr>\n",
              "      <th>58761</th>\n",
              "      <td>1.243848</td>\n",
              "      <td>0.524526</td>\n",
              "      <td>-0.538884</td>\n",
              "      <td>1.209196</td>\n",
              "      <td>0.479538</td>\n",
              "      <td>-0.197429</td>\n",
              "      <td>0.049166</td>\n",
              "      <td>0.037792</td>\n",
              "      <td>0.128119</td>\n",
              "      <td>-0.552903</td>\n",
              "      <td>-0.668359</td>\n",
              "      <td>-0.818804</td>\n",
              "      <td>-0.883832</td>\n",
              "      <td>-0.994581</td>\n",
              "      <td>1.506849</td>\n",
              "      <td>0.624003</td>\n",
              "      <td>0.705794</td>\n",
              "      <td>0.524182</td>\n",
              "      <td>-0.731750</td>\n",
              "      <td>-0.171541</td>\n",
              "      <td>-0.051660</td>\n",
              "      <td>-0.084089</td>\n",
              "      <td>-0.192846</td>\n",
              "      <td>-0.917392</td>\n",
              "      <td>0.681953</td>\n",
              "      <td>-0.194419</td>\n",
              "      <td>0.045917</td>\n",
              "      <td>0.040136</td>\n",
              "    </tr>\n",
              "    <tr>\n",
              "      <th>53591</th>\n",
              "      <td>-1.309441</td>\n",
              "      <td>1.786495</td>\n",
              "      <td>-1.371070</td>\n",
              "      <td>1.214335</td>\n",
              "      <td>-0.336642</td>\n",
              "      <td>-1.390120</td>\n",
              "      <td>-1.709109</td>\n",
              "      <td>0.667748</td>\n",
              "      <td>-1.699809</td>\n",
              "      <td>-3.843911</td>\n",
              "      <td>2.962599</td>\n",
              "      <td>-3.956045</td>\n",
              "      <td>-1.539232</td>\n",
              "      <td>-4.634631</td>\n",
              "      <td>-0.248403</td>\n",
              "      <td>-2.058551</td>\n",
              "      <td>-5.635494</td>\n",
              "      <td>-0.775271</td>\n",
              "      <td>-0.239310</td>\n",
              "      <td>0.253464</td>\n",
              "      <td>0.533521</td>\n",
              "      <td>-0.022180</td>\n",
              "      <td>-0.299556</td>\n",
              "      <td>-0.226416</td>\n",
              "      <td>0.364360</td>\n",
              "      <td>-0.475102</td>\n",
              "      <td>0.571426</td>\n",
              "      <td>0.293426</td>\n",
              "    </tr>\n",
              "  </tbody>\n",
              "</table>\n",
              "</div>"
            ],
            "text/plain": [
              "               V1        V2         V3  ...       V26       V27       V28\n",
              "150679 -12.833631  7.508790 -20.491952  ... -0.010091 -2.400811 -0.720557\n",
              "157183   2.063423 -0.084832  -0.595908  ... -0.956389  0.033984 -0.031238\n",
              "74507   -7.427924  2.948209  -8.678550  ... -0.111225  1.144599  0.102280\n",
              "58761    1.243848  0.524526  -0.538884  ... -0.194419  0.045917  0.040136\n",
              "53591   -1.309441  1.786495  -1.371070  ... -0.475102  0.571426  0.293426\n",
              "\n",
              "[5 rows x 28 columns]"
            ]
          },
          "metadata": {
            "tags": []
          },
          "execution_count": 75
        }
      ]
    },
    {
      "cell_type": "markdown",
      "metadata": {
        "id": "n546K6pJmNwL",
        "colab_type": "text"
      },
      "source": [
        "Using Singular Value Decomposition to reduce dimensionality to 3. The variance shows that only the first columns has the highest weight.(I keep 4 more columns anyway.)"
      ]
    },
    {
      "cell_type": "code",
      "metadata": {
        "id": "dDXBJFfKQSRb",
        "colab_type": "code",
        "outputId": "b3006f48-97b7-4cdb-e0c3-ca1a415cc1de",
        "colab": {
          "base_uri": "https://localhost:8080/",
          "height": 243
        }
      },
      "source": [
        "svd = TruncatedSVD(n_components=5)\n",
        "reduced = svd.fit_transform(reduce_df)\n",
        "reduced_test = svd.transform(reduce_test)\n",
        "print(reduced)"
      ],
      "execution_count": 91,
      "outputs": [
        {
          "output_type": "stream",
          "text": [
            "[[ 4.67961983e+01 -4.22222139e+00 -4.63120422e+00  1.25123839e+00\n",
            "  -1.92605913e+00]\n",
            " [-2.84025070e-01 -3.73043190e-01  3.12153849e-01 -3.89451753e-01\n",
            "   5.66478282e-01]\n",
            " [ 2.70935822e+01 -3.12680437e+00  2.43936340e+00 -2.47696932e+00\n",
            "   6.80928339e-01]\n",
            " ...\n",
            " [-9.38866838e-02 -2.56033443e-01  3.77541361e-01 -4.32529833e-01\n",
            "   2.14510100e-02]\n",
            " [ 7.17627432e+00 -2.15003893e+00  1.01366061e+00 -2.19712490e-01\n",
            "  -1.69378347e-01]\n",
            " [ 1.11965956e+00 -1.26242300e+00  1.76826609e+00  6.39608710e+00\n",
            "   1.04775612e+00]]\n"
          ],
          "name": "stdout"
        }
      ]
    },
    {
      "cell_type": "code",
      "metadata": {
        "id": "oH5IBsOTV6RL",
        "colab_type": "code",
        "outputId": "ac9bed18-b2e9-4bc5-a94f-a760bb3485d6",
        "colab": {
          "base_uri": "https://localhost:8080/",
          "height": 52
        }
      },
      "source": [
        "svd.explained_variance_"
      ],
      "execution_count": 92,
      "outputs": [
        {
          "output_type": "execute_result",
          "data": {
            "text/plain": [
              "array([208.33332057,  28.53704036,  22.91162171,  11.06945902,\n",
              "         9.67735557])"
            ]
          },
          "metadata": {
            "tags": []
          },
          "execution_count": 92
        }
      ]
    },
    {
      "cell_type": "code",
      "metadata": {
        "id": "mbglKE4kZ3Yx",
        "colab_type": "code",
        "colab": {}
      },
      "source": [
        "print(reduced_test)"
      ],
      "execution_count": 0,
      "outputs": []
    },
    {
      "cell_type": "code",
      "metadata": {
        "id": "HeHpfR2xUP1U",
        "colab_type": "code",
        "outputId": "1a303467-c6ad-4fc9-e1e2-755d843ca112",
        "colab": {
          "base_uri": "https://localhost:8080/",
          "height": 202
        }
      },
      "source": [
        "reduce_df_train = pd.DataFrame(reduced, index = reduce_df.index)\n",
        "reduce_df_test = pd.DataFrame(reduced_test,index = reduce_test.index )\n",
        "reduce_df_train.head()"
      ],
      "execution_count": 95,
      "outputs": [
        {
          "output_type": "execute_result",
          "data": {
            "text/html": [
              "<div>\n",
              "<style scoped>\n",
              "    .dataframe tbody tr th:only-of-type {\n",
              "        vertical-align: middle;\n",
              "    }\n",
              "\n",
              "    .dataframe tbody tr th {\n",
              "        vertical-align: top;\n",
              "    }\n",
              "\n",
              "    .dataframe thead th {\n",
              "        text-align: right;\n",
              "    }\n",
              "</style>\n",
              "<table border=\"1\" class=\"dataframe\">\n",
              "  <thead>\n",
              "    <tr style=\"text-align: right;\">\n",
              "      <th></th>\n",
              "      <th>0</th>\n",
              "      <th>1</th>\n",
              "      <th>2</th>\n",
              "      <th>3</th>\n",
              "      <th>4</th>\n",
              "    </tr>\n",
              "  </thead>\n",
              "  <tbody>\n",
              "    <tr>\n",
              "      <th>150679</th>\n",
              "      <td>46.796198</td>\n",
              "      <td>-4.222221</td>\n",
              "      <td>-4.631204</td>\n",
              "      <td>1.251238</td>\n",
              "      <td>-1.926059</td>\n",
              "    </tr>\n",
              "    <tr>\n",
              "      <th>157183</th>\n",
              "      <td>-0.284025</td>\n",
              "      <td>-0.373043</td>\n",
              "      <td>0.312154</td>\n",
              "      <td>-0.389452</td>\n",
              "      <td>0.566478</td>\n",
              "    </tr>\n",
              "    <tr>\n",
              "      <th>74507</th>\n",
              "      <td>27.093582</td>\n",
              "      <td>-3.126804</td>\n",
              "      <td>2.439363</td>\n",
              "      <td>-2.476969</td>\n",
              "      <td>0.680928</td>\n",
              "    </tr>\n",
              "    <tr>\n",
              "      <th>58761</th>\n",
              "      <td>0.121501</td>\n",
              "      <td>-0.741893</td>\n",
              "      <td>0.768426</td>\n",
              "      <td>1.819703</td>\n",
              "      <td>0.631041</td>\n",
              "    </tr>\n",
              "    <tr>\n",
              "      <th>53591</th>\n",
              "      <td>9.319987</td>\n",
              "      <td>-3.648819</td>\n",
              "      <td>2.431003</td>\n",
              "      <td>-0.602127</td>\n",
              "      <td>0.236894</td>\n",
              "    </tr>\n",
              "  </tbody>\n",
              "</table>\n",
              "</div>"
            ],
            "text/plain": [
              "                0         1         2         3         4\n",
              "150679  46.796198 -4.222221 -4.631204  1.251238 -1.926059\n",
              "157183  -0.284025 -0.373043  0.312154 -0.389452  0.566478\n",
              "74507   27.093582 -3.126804  2.439363 -2.476969  0.680928\n",
              "58761    0.121501 -0.741893  0.768426  1.819703  0.631041\n",
              "53591    9.319987 -3.648819  2.431003 -0.602127  0.236894"
            ]
          },
          "metadata": {
            "tags": []
          },
          "execution_count": 95
        }
      ]
    },
    {
      "cell_type": "code",
      "metadata": {
        "id": "6cnhJ5dOXmAc",
        "colab_type": "code",
        "colab": {}
      },
      "source": [
        "x_train_final = pd.DataFrame()\n",
        "x_test_final = pd.DataFrame()\n",
        "x_train_final = pd.concat([x_train.drop(columns = [\"V1\",\"V2\",\"V3\",\"V4\",\"V5\",\"V6\",\"V7\",\"V8\",\"V9\",\"V10\",\"V11\",\"V12\",\"V13\",\"V14\",\"V15\",\"V16\",\"V17\",\"V18\",\"V19\",\"V20\",\"V21\",\"V22\",\"V23\",\"V24\",\"V25\",\"V26\",\"V27\",\"V28\"]),reduce_df_train], axis = 1)\n",
        "x_test_final = pd.concat([x_test.drop(columns = [\"V1\",\"V2\",\"V3\",\"V4\",\"V5\",\"V6\",\"V7\",\"V8\",\"V9\",\"V10\",\"V11\",\"V12\",\"V13\",\"V14\",\"V15\",\"V16\",\"V17\",\"V18\",\"V19\",\"V20\",\"V21\",\"V22\",\"V23\",\"V24\",\"V25\",\"V26\",\"V27\",\"V28\"]),reduce_df_test], axis = 1)"
      ],
      "execution_count": 0,
      "outputs": []
    },
    {
      "cell_type": "code",
      "metadata": {
        "id": "3LfapWoUYhx_",
        "colab_type": "code",
        "outputId": "0f50d44c-707f-4d27-9f4c-45cc8537b7e6",
        "colab": {
          "base_uri": "https://localhost:8080/",
          "height": 202
        }
      },
      "source": [
        "x_train_final.head()"
      ],
      "execution_count": 97,
      "outputs": [
        {
          "output_type": "execute_result",
          "data": {
            "text/html": [
              "<div>\n",
              "<style scoped>\n",
              "    .dataframe tbody tr th:only-of-type {\n",
              "        vertical-align: middle;\n",
              "    }\n",
              "\n",
              "    .dataframe tbody tr th {\n",
              "        vertical-align: top;\n",
              "    }\n",
              "\n",
              "    .dataframe thead th {\n",
              "        text-align: right;\n",
              "    }\n",
              "</style>\n",
              "<table border=\"1\" class=\"dataframe\">\n",
              "  <thead>\n",
              "    <tr style=\"text-align: right;\">\n",
              "      <th></th>\n",
              "      <th>Time</th>\n",
              "      <th>Amount</th>\n",
              "      <th>0</th>\n",
              "      <th>1</th>\n",
              "      <th>2</th>\n",
              "      <th>3</th>\n",
              "      <th>4</th>\n",
              "    </tr>\n",
              "  </thead>\n",
              "  <tbody>\n",
              "    <tr>\n",
              "      <th>150679</th>\n",
              "      <td>93879.0</td>\n",
              "      <td>104.03</td>\n",
              "      <td>46.796198</td>\n",
              "      <td>-4.222221</td>\n",
              "      <td>-4.631204</td>\n",
              "      <td>1.251238</td>\n",
              "      <td>-1.926059</td>\n",
              "    </tr>\n",
              "    <tr>\n",
              "      <th>157183</th>\n",
              "      <td>109663.0</td>\n",
              "      <td>2.12</td>\n",
              "      <td>-0.284025</td>\n",
              "      <td>-0.373043</td>\n",
              "      <td>0.312154</td>\n",
              "      <td>-0.389452</td>\n",
              "      <td>0.566478</td>\n",
              "    </tr>\n",
              "    <tr>\n",
              "      <th>74507</th>\n",
              "      <td>55618.0</td>\n",
              "      <td>130.44</td>\n",
              "      <td>27.093582</td>\n",
              "      <td>-3.126804</td>\n",
              "      <td>2.439363</td>\n",
              "      <td>-2.476969</td>\n",
              "      <td>0.680928</td>\n",
              "    </tr>\n",
              "    <tr>\n",
              "      <th>58761</th>\n",
              "      <td>48533.0</td>\n",
              "      <td>1.00</td>\n",
              "      <td>0.121501</td>\n",
              "      <td>-0.741893</td>\n",
              "      <td>0.768426</td>\n",
              "      <td>1.819703</td>\n",
              "      <td>0.631041</td>\n",
              "    </tr>\n",
              "    <tr>\n",
              "      <th>53591</th>\n",
              "      <td>46057.0</td>\n",
              "      <td>1.00</td>\n",
              "      <td>9.319987</td>\n",
              "      <td>-3.648819</td>\n",
              "      <td>2.431003</td>\n",
              "      <td>-0.602127</td>\n",
              "      <td>0.236894</td>\n",
              "    </tr>\n",
              "  </tbody>\n",
              "</table>\n",
              "</div>"
            ],
            "text/plain": [
              "            Time  Amount          0         1         2         3         4\n",
              "150679   93879.0  104.03  46.796198 -4.222221 -4.631204  1.251238 -1.926059\n",
              "157183  109663.0    2.12  -0.284025 -0.373043  0.312154 -0.389452  0.566478\n",
              "74507    55618.0  130.44  27.093582 -3.126804  2.439363 -2.476969  0.680928\n",
              "58761    48533.0    1.00   0.121501 -0.741893  0.768426  1.819703  0.631041\n",
              "53591    46057.0    1.00   9.319987 -3.648819  2.431003 -0.602127  0.236894"
            ]
          },
          "metadata": {
            "tags": []
          },
          "execution_count": 97
        }
      ]
    },
    {
      "cell_type": "code",
      "metadata": {
        "id": "5_SuywZ9Y_rc",
        "colab_type": "code",
        "outputId": "894f5dc4-e5b9-4479-d6bd-dcce013d13ae",
        "colab": {
          "base_uri": "https://localhost:8080/",
          "height": 121
        }
      },
      "source": [
        "y_train.head()"
      ],
      "execution_count": 98,
      "outputs": [
        {
          "output_type": "execute_result",
          "data": {
            "text/plain": [
              "150679    1\n",
              "157183    0\n",
              "74507     1\n",
              "58761     1\n",
              "53591     1\n",
              "Name: Class, dtype: int64"
            ]
          },
          "metadata": {
            "tags": []
          },
          "execution_count": 98
        }
      ]
    },
    {
      "cell_type": "markdown",
      "metadata": {
        "id": "wK8UNR6pnDCL",
        "colab_type": "text"
      },
      "source": [
        "Plotting heatmap for our reduced features. It confirms that the first reduced column is highly correlated with our Class column."
      ]
    },
    {
      "cell_type": "code",
      "metadata": {
        "id": "nactXfYqZGZ4",
        "colab_type": "code",
        "outputId": "ff027a81-813b-4e5b-e9dc-11ab0e9ff7be",
        "colab": {
          "base_uri": "https://localhost:8080/",
          "height": 299
        }
      },
      "source": [
        "sns.heatmap(data = pd.concat([x_train_final,y_train], axis = 1).corr())\n",
        "plt.title(\"Heatmap of Correlation\")"
      ],
      "execution_count": 100,
      "outputs": [
        {
          "output_type": "execute_result",
          "data": {
            "text/plain": [
              "Text(0.5, 1.0, 'Heatmap of Correlation')"
            ]
          },
          "metadata": {
            "tags": []
          },
          "execution_count": 100
        },
        {
          "output_type": "display_data",
          "data": {
            "image/png": "[encoded data removed]",
            "text/plain": [
              "<Figure size 432x288 with 2 Axes>"
            ]
          },
          "metadata": {
            "tags": []
          }
        }
      ]
    },
    {
      "cell_type": "markdown",
      "metadata": {
        "id": "XTsj1BzxndoP",
        "colab_type": "text"
      },
      "source": [
        "Training using logistic regression classifier."
      ]
    },
    {
      "cell_type": "code",
      "metadata": {
        "id": "yWQH1tmPfdaj",
        "colab_type": "code",
        "colab": {
          "base_uri": "https://localhost:8080/",
          "height": 104
        },
        "outputId": "128c2c2d-f488-4780-deaf-e02407c7733f"
      },
      "source": [
        "from sklearn.linear_model import LogisticRegression\n",
        "logisticRegr = LogisticRegression(max_iter = 150)\n",
        "logisticRegr.fit(x_train_final, y_train)\n"
      ],
      "execution_count": 101,
      "outputs": [
        {
          "output_type": "execute_result",
          "data": {
            "text/plain": [
              "LogisticRegression(C=1.0, class_weight=None, dual=False, fit_intercept=True,\n",
              "                   intercept_scaling=1, l1_ratio=None, max_iter=150,\n",
              "                   multi_class='auto', n_jobs=None, penalty='l2',\n",
              "                   random_state=None, solver='lbfgs', tol=0.0001, verbose=0,\n",
              "                   warm_start=False)"
            ]
          },
          "metadata": {
            "tags": []
          },
          "execution_count": 101
        }
      ]
    },
    {
      "cell_type": "markdown",
      "metadata": {
        "id": "ApAPKOvHnlii",
        "colab_type": "text"
      },
      "source": [
        "Our classifier has 91% validation accuracy."
      ]
    },
    {
      "cell_type": "code",
      "metadata": {
        "id": "BmuHG2nLgwE_",
        "colab_type": "code",
        "outputId": "c6a7a983-5dc3-46ed-dbef-3bff03d7a2e9",
        "colab": {
          "base_uri": "https://localhost:8080/",
          "height": 35
        }
      },
      "source": [
        "score = logisticRegr.score(x_test_final, y_test)\n",
        "print(score)"
      ],
      "execution_count": 102,
      "outputs": [
        {
          "output_type": "stream",
          "text": [
            "0.9137055837563451\n"
          ],
          "name": "stdout"
        }
      ]
    },
    {
      "cell_type": "code",
      "metadata": {
        "id": "Q5N9QOleqfYr",
        "colab_type": "code",
        "colab": {}
      },
      "source": [
        "pred = logisticRegr.predict(x_test_final)\n"
      ],
      "execution_count": 0,
      "outputs": []
    },
    {
      "cell_type": "markdown",
      "metadata": {
        "id": "BvWbnlZRnwj5",
        "colab_type": "text"
      },
      "source": [
        "Confusion Matrix:"
      ]
    },
    {
      "cell_type": "code",
      "metadata": {
        "id": "CUpPzIAQtaN0",
        "colab_type": "code",
        "outputId": "f189f9db-b760-413a-e973-1bd37787f682",
        "colab": {
          "base_uri": "https://localhost:8080/",
          "height": 299
        }
      },
      "source": [
        "from sklearn import metrics\n",
        "cm=metrics.confusion_matrix(y_test,pred)\n",
        "cm = pd.DataFrame(cm, index = [\"No Fraud\", \"Fraud\"], columns=[\"No Fraud\", \"Fraud\"])\n",
        "sns.heatmap(cm, annot = True)\n",
        "plt.title(\"Confusion Matrix Logistic Regression\")"
      ],
      "execution_count": 113,
      "outputs": [
        {
          "output_type": "execute_result",
          "data": {
            "text/plain": [
              "Text(0.5, 1.0, 'Confusion Matrix Logistic Regression')"
            ]
          },
          "metadata": {
            "tags": []
          },
          "execution_count": 113
        },
        {
          "output_type": "display_data",
          "data": {
            "image/png": "[encoded data removed]",
            "text/plain": [
              "<Figure size 432x288 with 2 Axes>"
            ]
          },
          "metadata": {
            "tags": []
          }
        }
      ]
    },
    {
      "cell_type": "code",
      "metadata": {
        "id": "GVzzAo9u8PmZ",
        "colab_type": "code",
        "colab": {
          "base_uri": "https://localhost:8080/",
          "height": 156
        },
        "outputId": "bfc25463-9097-498e-8278-95b51c70baae"
      },
      "source": [
        "clf = RandomForestClassifier()\n",
        "clf.fit(x_train_final, y_train)"
      ],
      "execution_count": 111,
      "outputs": [
        {
          "output_type": "execute_result",
          "data": {
            "text/plain": [
              "RandomForestClassifier(bootstrap=True, ccp_alpha=0.0, class_weight=None,\n",
              "                       criterion='gini', max_depth=None, max_features='auto',\n",
              "                       max_leaf_nodes=None, max_samples=None,\n",
              "                       min_impurity_decrease=0.0, min_impurity_split=None,\n",
              "                       min_samples_leaf=1, min_samples_split=2,\n",
              "                       min_weight_fraction_leaf=0.0, n_estimators=100,\n",
              "                       n_jobs=None, oob_score=False, random_state=None,\n",
              "                       verbose=0, warm_start=False)"
            ]
          },
          "metadata": {
            "tags": []
          },
          "execution_count": 111
        }
      ]
    },
    {
      "cell_type": "code",
      "metadata": {
        "id": "--lkdTV38OIB",
        "colab_type": "code",
        "colab": {
          "base_uri": "https://localhost:8080/",
          "height": 35
        },
        "outputId": "4945e062-69c0-45e1-a7eb-9cb5d7ef690a"
      },
      "source": [
        "scorerf = clf.score(x_test_final, y_test)\n",
        "print(scorerf)"
      ],
      "execution_count": 112,
      "outputs": [
        {
          "output_type": "stream",
          "text": [
            "0.934010152284264\n"
          ],
          "name": "stdout"
        }
      ]
    },
    {
      "cell_type": "code",
      "metadata": {
        "id": "SwvlWIUf8fy0",
        "colab_type": "code",
        "colab": {
          "base_uri": "https://localhost:8080/",
          "height": 299
        },
        "outputId": "abc0f4ab-c8dd-413f-b7ce-47606840ea41"
      },
      "source": [
        "from sklearn import metrics\n",
        "pred = clf.predict(x_test_final)\n",
        "cm=metrics.confusion_matrix(y_test,pred)\n",
        "cm = pd.DataFrame(cm, index = [\"No Fraud\", \"Fraud\"], columns=[\"No Fraud\", \"Fraud\"])\n",
        "sns.heatmap(cm, annot = True)\n",
        "plt.title(\"Confusion Matrix for Random Forest Classifier\")"
      ],
      "execution_count": 117,
      "outputs": [
        {
          "output_type": "execute_result",
          "data": {
            "text/plain": [
              "Text(0.5, 1.0, 'Confusion Matrix for Random Forest Classifier')"
            ]
          },
          "metadata": {
            "tags": []
          },
          "execution_count": 117
        },
        {
          "output_type": "display_data",
          "data": {
            "image/png": "[encoded data removed]",
            "text/plain": [
              "<Figure size 432x288 with 2 Axes>"
            ]
          },
          "metadata": {
            "tags": []
          }
        }
      ]
    },
    {
      "cell_type": "markdown",
      "metadata": {
        "id": "9g0GEcOlp1t_",
        "colab_type": "text"
      },
      "source": [
        "Saving our classifier:"
      ]
    },
    {
      "cell_type": "code",
      "metadata": {
        "id": "GdFOwBW3n6Pt",
        "colab_type": "code",
        "colab": {}
      },
      "source": [
        "import pickle\n",
        "save_classifier = open(\"LogisticRegressionClassfier.p\",\"wb\")\n",
        "pickle.dump(logisticRegr, save_classifier)\n",
        "save_classifier.close()\n",
        "save_classifier = open(\"RandomForestClassfier.p\",\"wb\")\n",
        "pickle.dump(clf, save_classifier)\n",
        "save_classifier.close()\n",
        "save_svd = open(\"SVDreduce.p\",\"wb\")\n",
        "pickle.dump(svd, save_svd)\n",
        "save_svd.close()"
      ],
      "execution_count": 0,
      "outputs": []
    }
  ]
}